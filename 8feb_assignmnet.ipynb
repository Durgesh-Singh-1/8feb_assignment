{
 "cells": [
  {
   "cell_type": "code",
   "execution_count": 1,
   "id": "5196a8e5-6faa-41f6-af80-e00e226c17e3",
   "metadata": {},
   "outputs": [],
   "source": [
    "# 1 ans :- "
   ]
  },
  {
   "cell_type": "code",
   "execution_count": 4,
   "id": "dc04973d-910b-46d8-b82f-06273f8bbeb5",
   "metadata": {},
   "outputs": [
    {
     "data": {
      "text/plain": [
       "' Abstraction is concept of object_oriented Programming \\n   abstaction use to hidding unnecessary details and focusing on essential features>'"
      ]
     },
     "execution_count": 4,
     "metadata": {},
     "output_type": "execute_result"
    }
   ],
   "source": [
    "\"\"\" Abstraction is concept of object_oriented Programming \n",
    "   abstaction use to hidding unnecessary details and focusing on essential features>\"\"\""
   ]
  },
  {
   "cell_type": "code",
   "execution_count": 5,
   "id": "b8a561ad-9d77-4a22-904b-69d752f57a62",
   "metadata": {},
   "outputs": [
    {
     "name": "stdout",
     "output_type": "stream",
     "text": [
      "Driving a car...\n",
      "Riding a bike...\n"
     ]
    }
   ],
   "source": [
    "# example :\n",
    "from abc import ABC, abstractmethod\n",
    "\n",
    "class Vehicle(ABC):\n",
    "    @abstractmethod\n",
    "    def drive(self):\n",
    "        pass\n",
    "\n",
    "class Car(Vehicle):\n",
    "    def drive(self):\n",
    "        print(\"Driving a car...\")\n",
    "\n",
    "class Bike(Vehicle):\n",
    "    def drive(self):\n",
    "        print(\"Riding a bike...\")\n",
    "\n",
    "car = Car()\n",
    "bike = Bike()\n",
    "\n",
    "car.drive()\n",
    "bike.drive()"
   ]
  },
  {
   "cell_type": "code",
   "execution_count": 6,
   "id": "9cb03703-b84e-4ff3-8d15-a471c74d3af7",
   "metadata": {},
   "outputs": [],
   "source": [
    "# 2 ans :- "
   ]
  },
  {
   "cell_type": "code",
   "execution_count": 8,
   "id": "76607d56-e150-44dc-856e-ae36304f7607",
   "metadata": {},
   "outputs": [
    {
     "data": {
      "text/plain": [
       "'Abstraction is the process of hiding unnecessary details and focusing on essential features  \\n  Encapsulation is the process of hiding the internal details of an object from the outside world'"
      ]
     },
     "execution_count": 8,
     "metadata": {},
     "output_type": "execute_result"
    }
   ],
   "source": [
    "\"\"\"Abstraction is the process of hiding unnecessary details and focusing on essential features  \n",
    "  Encapsulation is the process of hiding the internal details of an object from the outside world\"\"\""
   ]
  },
  {
   "cell_type": "code",
   "execution_count": 9,
   "id": "bed01699-d708-470e-a31c-ac6bdad8453a",
   "metadata": {},
   "outputs": [],
   "source": [
    "# example of abstraction "
   ]
  },
  {
   "cell_type": "code",
   "execution_count": 10,
   "id": "8ccf9c66-cac5-41d3-a8c9-46ff999e6bc8",
   "metadata": {},
   "outputs": [
    {
     "name": "stdout",
     "output_type": "stream",
     "text": [
      "Driving a car...\n",
      "Riding a bike...\n"
     ]
    }
   ],
   "source": [
    "# example :\n",
    "from abc import ABC, abstractmethod\n",
    "\n",
    "class Vehicle(ABC):\n",
    "    @abstractmethod\n",
    "    def drive(self):\n",
    "        pass\n",
    "\n",
    "class Car(Vehicle):\n",
    "    def drive(self):\n",
    "        print(\"Driving a car...\")\n",
    "\n",
    "class Bike(Vehicle):\n",
    "    def drive(self):\n",
    "        print(\"Riding a bike...\")\n",
    "\n",
    "car = Car()\n",
    "bike = Bike()\n",
    "\n",
    "car.drive()\n",
    "bike.drive()"
   ]
  },
  {
   "cell_type": "code",
   "execution_count": 11,
   "id": "c6c2b66e-3b8b-481c-a197-32eb00cdd9f8",
   "metadata": {},
   "outputs": [],
   "source": [
    "# Example of encapsulation :"
   ]
  },
  {
   "cell_type": "code",
   "execution_count": 14,
   "id": "bbece61e-bd5e-45b1-a3f7-42f2889b7dd6",
   "metadata": {},
   "outputs": [
    {
     "name": "stdout",
     "output_type": "stream",
     "text": [
      "30\n",
      "35\n",
      "35\n"
     ]
    }
   ],
   "source": [
    "# Example of Encapsulation\n",
    "\n",
    "class Person:\n",
    "    def __init__(self, name, age):\n",
    "        self.name = name\n",
    "        self.__age = age  \n",
    "        \n",
    "    def get_age(self):\n",
    "        return self.__age\n",
    "\n",
    "    def set_age(self, age):\n",
    "        if age > 0 and age < 120:\n",
    "            self.__age = age\n",
    "\n",
    "person = Person(\"John\", 30)\n",
    "print(person.get_age()) \n",
    "\n",
    "person.set_age(35)\n",
    "print(person.get_age()) \n",
    "\n",
    "person.set_age(-10)   \n",
    "print(person.get_age())  \n"
   ]
  },
  {
   "cell_type": "code",
   "execution_count": 15,
   "id": "2dc56def-8c8b-4101-a38c-c35dc9caa590",
   "metadata": {},
   "outputs": [],
   "source": [
    "# 3 ans :-"
   ]
  },
  {
   "cell_type": "code",
   "execution_count": 16,
   "id": "6d9203f5-6586-4741-9bb7-633d5d8e4951",
   "metadata": {},
   "outputs": [
    {
     "data": {
      "text/plain": [
       "'It is used to define abstract classes and abstract methods that can be used to enforce programming contracts and provide a common interface for a group of related classes.'"
      ]
     },
     "execution_count": 16,
     "metadata": {},
     "output_type": "execute_result"
    }
   ],
   "source": [
    "\"\"\"It is used to define abstract classes and abstract methods that can be used to enforce programming contracts and provide a common interface for a group of related classes.\"\"\""
   ]
  },
  {
   "cell_type": "code",
   "execution_count": 18,
   "id": "40d19b9b-1178-48e9-95ee-4c658e358440",
   "metadata": {},
   "outputs": [],
   "source": [
    "# 4 ans :_"
   ]
  },
  {
   "cell_type": "code",
   "execution_count": 19,
   "id": "682d9bd9-5a09-464f-8d61-6c2a761d754e",
   "metadata": {},
   "outputs": [
    {
     "data": {
      "text/plain": [
       "'In Python, we can achieve data abstraction by using private variables and methods, which are not directly accessible from outside the class.'"
      ]
     },
     "execution_count": 19,
     "metadata": {},
     "output_type": "execute_result"
    }
   ],
   "source": [
    "\"\"\"In Python, we can achieve data abstraction by using private variables and methods, which are not directly accessible from outside the class.\"\"\""
   ]
  },
  {
   "cell_type": "code",
   "execution_count": 20,
   "id": "416e395e-52f5-456a-91c9-cd31d6be2427",
   "metadata": {},
   "outputs": [],
   "source": [
    "# 5 ans :- "
   ]
  },
  {
   "cell_type": "code",
   "execution_count": 22,
   "id": "4dbcbf7c-f18e-4be0-8722-f3d87a7ec1b8",
   "metadata": {},
   "outputs": [
    {
     "data": {
      "text/plain": [
       "'create an instance of an abstract class in Python would result in a TypeError at runtime'"
      ]
     },
     "execution_count": 22,
     "metadata": {},
     "output_type": "execute_result"
    }
   ],
   "source": [
    "\"\"\"create an instance of an abstract class in Python would result in a TypeError at runtime\"\"\""
   ]
  },
  {
   "cell_type": "code",
   "execution_count": 23,
   "id": "2bbc51e4-1f53-4d87-a9f0-5caa329b0110",
   "metadata": {},
   "outputs": [],
   "source": [
    "# example :-"
   ]
  },
  {
   "cell_type": "code",
   "execution_count": null,
   "id": "f9255173-ee4c-416d-bf4b-03bffbc9754c",
   "metadata": {},
   "outputs": [],
   "source": [
    "from abc import ABC, abstractmethod\n",
    "\n",
    "class MyAbstractClass(ABC):\n",
    "    @abstractmethod\n",
    "    def my_abstract_method(self):\n",
    "        pass\n",
    "\n",
    "my_object = MyAbstractClass()  # TypeError: Can't instantiate abstract class MyAbstractClass with abstract methods my_abstract_method\n"
   ]
  }
 ],
 "metadata": {
  "kernelspec": {
   "display_name": "Python 3 (ipykernel)",
   "language": "python",
   "name": "python3"
  },
  "language_info": {
   "codemirror_mode": {
    "name": "ipython",
    "version": 3
   },
   "file_extension": ".py",
   "mimetype": "text/x-python",
   "name": "python",
   "nbconvert_exporter": "python",
   "pygments_lexer": "ipython3",
   "version": "3.10.8"
  }
 },
 "nbformat": 4,
 "nbformat_minor": 5
}
